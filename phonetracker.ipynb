{
  "nbformat": 4,
  "nbformat_minor": 0,
  "metadata": {
    "colab": {
      "provenance": []
    },
    "kernelspec": {
      "name": "python3",
      "display_name": "Python 3"
    },
    "language_info": {
      "name": "python"
    }
  },
  "cells": [
    {
      "cell_type": "code",
      "execution_count": 4,
      "metadata": {
        "colab": {
          "base_uri": "https://localhost:8080/"
        },
        "id": "GbWNkzK6liJj",
        "outputId": "6e1e7be8-f6ef-4ee7-c8ee-5e0f12390dfe"
      },
      "outputs": [
        {
          "output_type": "stream",
          "name": "stdout",
          "text": [
            "Enter the phone number with country code : +352661888994\n",
            "timezone : ('Europe/Luxembourg',)\n",
            "location : Luxembourg\n",
            "service provider : Orange\n"
          ]
        }
      ],
      "source": [
        "!pip install phonenumbers\n",
        "# track location and time zone using the phone number\n",
        "import phonenumbers\n",
        "from phonenumbers import timezone\n",
        "from phonenumbers import geocoder\n",
        "from phonenumbers import carrier\n",
        " \n",
        "number = input(\"Enter the phone number with country code (starting with +) : \")\n",
        " \n",
        "# Parsing String to the Phone number\n",
        "phoneNumber = phonenumbers.parse(number)\n",
        " \n",
        "# printing the timezone using the timezone module\n",
        "timeZone = timezone.time_zones_for_number(phoneNumber)\n",
        "print(\"timezone : \"+str(timeZone))\n",
        " \n",
        "# printing the geolocation of the given number using the geocoder module\n",
        "geolocation = geocoder.description_for_number(phoneNumber,\"en\")\n",
        "print(\"location : \"+geolocation)\n",
        " \n",
        "# printing the service provider name using the carrier module\n",
        "service = carrier.name_for_number(phoneNumber,\"en\")\n",
        "print(\"service provider : \"+service)"
      ]
    }
  ]
}